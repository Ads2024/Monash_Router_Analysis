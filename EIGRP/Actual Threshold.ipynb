{
 "cells": [
  {
   "cell_type": "markdown",
   "metadata": {},
   "source": [
    "R1-R2 (Routes)"
   ]
  },
  {
   "cell_type": "code",
   "execution_count": 17,
   "metadata": {},
   "outputs": [
    {
     "name": "stdout",
     "output_type": "stream",
     "text": [
      "-11111.111111111111 -11111.111111111111\n"
     ]
    }
   ],
   "source": [
    "propagation_delay_direct = 110 * 10**-6  # seconds\n",
    "propagation_delay_via_R3 = 210 * 10**-6  # seconds\n",
    "bandwidth_via_R3_bps = 100_000* 1_000  # bits per second\n",
    "bandwidth_direct_bps = 1_000_000 * 1_000  # bits per second\n",
    "bandwidth_via_R4_bps = 100_000* 1_000  # bits per second\n",
    "propagation_delay_via_R4 = 210 * 10**-6  # seconds\n",
    "# Equate total delays and solve for L\n",
    "# D_total_via_R2 = propagation_delay_via_R2 + L / bandwidth_via_R2_bps\n",
    "# D_total_direct = propagation_delay_direct + L / bandwidth_direct_bps\n",
    "# Set them equal and solve for L\n",
    "L_threshold_R3= (propagation_delay_via_R3 - propagation_delay_direct) / (1/bandwidth_direct_bps - 1/bandwidth_via_R3_bps)\n",
    "L_threshold_R4 = (propagation_delay_via_R4 - propagation_delay_direct) / (1/bandwidth_direct_bps- 1/bandwidth_via_R4_bps)\n",
    "print(L_threshold_R3,L_threshold_R4)"
   ]
  },
  {
   "cell_type": "markdown",
   "metadata": {},
   "source": [
    "R1-R3 (Routes)"
   ]
  },
  {
   "cell_type": "code",
   "execution_count": 21,
   "metadata": {},
   "outputs": [
    {
     "name": "stdout",
     "output_type": "stream",
     "text": [
      "13333.333333333332 -11111.111111111111\n"
     ]
    }
   ],
   "source": [
    "\n",
    "propagation_delay_via_R2 = 220 * 10**-6  # seconds\n",
    "propagation_delay_direct = 100 * 10**-6  # seconds\n",
    "bandwidth_via_R2_bps = 1_000_000 * 1_000  # bits per second\n",
    "bandwidth_direct_bps = 100_000 * 1_000  # bits per second\n",
    "bandwidth_via_R4_R2_bps = 100_000 * 1_000  # bits per second\n",
    "propagation_R3_via_R4_R2 = 320 * 10**-6  # seconds\n",
    "# Equate total delays and solve for L\n",
    "# D_total_via_R2 = propagation_delay_via_R2 + L / bandwidth_via_R2_bps\n",
    "# D_total_direct = propagation_delay_direct + L / bandwidth_direct_bps\n",
    "# Set them equal and solve for L\n",
    "L_threshold_R3 = (propagation_delay_via_R2 - propagation_delay_direct) / (1/bandwidth_direct_bps- 1/bandwidth_via_R2_bps)\n",
    "L_threshold_R4_R2 = (propagation_R3_via_R4_R2 - propagation_delay_via_R2) / (1/bandwidth_via_R2_bps - 1/bandwidth_via_R4_R2_bps)\n",
    "print(L_threshold_R3,L_threshold_R4_R2)\n"
   ]
  },
  {
   "cell_type": "markdown",
   "metadata": {},
   "source": [
    "R1-R4 (Routes)"
   ]
  },
  {
   "cell_type": "code",
   "execution_count": 23,
   "metadata": {},
   "outputs": [
    {
     "name": "stdout",
     "output_type": "stream",
     "text": [
      "13333.333333333332 -11111.111111111111\n"
     ]
    }
   ],
   "source": [
    "\n",
    "propagation_delay_via_R2 = 220 * 10**-6  # seconds\n",
    "propagation_delay_direct = 100 * 10**-6  # seconds\n",
    "bandwidth_via_R2_bps = 1_000_000 * 1_000  # bits per second\n",
    "bandwidth_direct_bps = 100_000 * 1_000  # bits per second\n",
    "bandwidth_via_R3_R2_bps = 100_000 * 1_000  # bits per second\n",
    "propagation_delay_via_R3_R2 = 320 * 10**-6  # seconds\n",
    "# Equate total delays and solve for L\n",
    "# D_total_via_R2 = propagation_delay_via_R2 + L / bandwidth_via_R2_bps\n",
    "# D_total_direct = propagation_delay_direct + L / bandwidth_direct_bps\n",
    "# Set them equal and solve for L\n",
    "L_threshold_Direct = (propagation_delay_via_R2 - propagation_delay_direct) / (1/bandwidth_direct_bps - 1/bandwidth_via_R2_bps)\n",
    "L_threshold_R3_R4 = (propagation_delay_via_R3_R2- propagation_delay_via_R2) / (1/bandwidth_via_R2_bps - 1/bandwidth_via_R3_R2_bps)\n",
    "\n",
    "print(L_threshold_Direct,L_threshold_R3_R4)"
   ]
  },
  {
   "cell_type": "markdown",
   "metadata": {},
   "source": [
    "R2-R1 (Routes)"
   ]
  },
  {
   "cell_type": "code",
   "execution_count": 28,
   "metadata": {},
   "outputs": [
    {
     "name": "stdout",
     "output_type": "stream",
     "text": [
      "-11111.111111111111\n"
     ]
    }
   ],
   "source": [
    "propagation_delay_direct = 110 * 10**-6  # seconds\n",
    "propagation_delay_via_R4 = 210 * 10**-6  # seconds\n",
    "bandwidth_via_R4_bps = 100_000* 1_000  # bits per second\n",
    "bandwidth_direct_bps = 1_000_000 * 1_000  # bits per second\n",
    "\n",
    "# Equate total delays and solve for L\n",
    "# D_total_via_R2 = propagation_delay_via_R2 + L / bandwidth_via_R2_bps\n",
    "# D_total_direct = propagation_delay_direct + L / bandwidth_direct_bps\n",
    "# Set them equal and solve for L\n",
    "L_threshold = (propagation_delay_via_R4 - propagation_delay_direct) / (1/bandwidth_direct_bps - 1/bandwidth_via_R4_bps)\n",
    "\n",
    "print(L_threshold)"
   ]
  },
  {
   "cell_type": "markdown",
   "metadata": {},
   "source": [
    "R2-R4 (Routes)"
   ]
  },
  {
   "cell_type": "code",
   "execution_count": 25,
   "metadata": {},
   "outputs": [
    {
     "name": "stdout",
     "output_type": "stream",
     "text": [
      "-11111.111111111111 -22222.222222222226\n"
     ]
    }
   ],
   "source": [
    "propagation_delay_direct = 110 * 10**-6  # seconds\n",
    "propagation_delay_via_R1 = 210 * 10**-6  # seconds\n",
    "bandwidth_via_R1_bps = 100_000* 1_000  # bits per second\n",
    "bandwidth_direct_bps = 1_000_000 * 1_000  # bits per second\n",
    "bandwidth_via_R3_R1_bps = 100_000* 1_000  # bits per second\n",
    "propagation_delay_via_R3_R1 = 310 * 10**-6  # seconds\n",
    "# Equate total delays and solve for L\n",
    "# D_total_via_R2 = propagation_delay_via_R2 + L / bandwidth_via_R2_bps\n",
    "# D_total_direct = propagation_delay_direct + L / bandwidth_direct_bps\n",
    "# Set them equal and solve for L\n",
    "L_threshold_R1 = (propagation_delay_via_R1 - propagation_delay_direct) / (1/bandwidth_direct_bps - 1/bandwidth_via_R1_bps)\n",
    "L_threshold_R3_R1 = (propagation_delay_via_R3_R1 - propagation_delay_direct) / (1/bandwidth_direct_bps- 1/bandwidth_via_R3_R1_bps)\n",
    "print(L_threshold_R1,L_threshold_R3_R1)"
   ]
  },
  {
   "cell_type": "code",
   "execution_count": 9,
   "metadata": {},
   "outputs": [
    {
     "name": "stdout",
     "output_type": "stream",
     "text": [
      "22222.222222222226\n"
     ]
    }
   ],
   "source": [
    "propagation_delay_direct = 110 * 10**-6  # seconds\n",
    "propagation_delay_via_R3_R1 = 310 * 10**-6  # seconds\n",
    "bandwidth_via_R1_R1_bps = 100_000* 1_000  # bits per second\n",
    "bandwidth_direct_bps = 1_000_000 * 1_000  # bits per second\n",
    "\n",
    "# Equate total delays and solve for L\n",
    "# D_total_via_R2 = propagation_delay_via_R2 + L / bandwidth_via_R2_bps\n",
    "# D_total_direct = propagation_delay_direct + L / bandwidth_direct_bps\n",
    "# Set them equal and solve for L\n",
    "L_threshold = (propagation_delay_via_R3_R1 - propagation_delay_direct) / (1/bandwidth_via_R1_R1_bps - 1/bandwidth_direct_bps)\n",
    "\n",
    "print(L_threshold)"
   ]
  },
  {
   "cell_type": "markdown",
   "metadata": {},
   "source": [
    "R2-R3 (Routes)\n"
   ]
  },
  {
   "cell_type": "code",
   "execution_count": 29,
   "metadata": {},
   "outputs": [
    {
     "name": "stdout",
     "output_type": "stream",
     "text": [
      "-11111.111111111111 -22222.222222222226\n"
     ]
    }
   ],
   "source": [
    "propagation_delay_direct = 110 * 10**-6  # seconds\n",
    "propagation_delay_via_R1 = 210 * 10**-6  # seconds\n",
    "bandwidth_via_R1_bps = 100_000* 1_000  # bits per second\n",
    "bandwidth_direct_bps = 1_000_000 * 1_000  # bits per second\n",
    "bandwidth_via_R4_R1_bps = 100_000* 1_000  # bits per second\n",
    "propagation_delay_via_R4_R1 = 310 * 10**-6  # seconds\n",
    "# Equate total delays and solve for L\n",
    "# D_total_via_R2 = propagation_delay_via_R2 + L / bandwidth_via_R2_bps\n",
    "# D_total_direct = propagation_delay_direct + L / bandwidth_direct_bps\n",
    "# Set them equal and solve for L\n",
    "L_threshold_R1 = (propagation_delay_via_R1 - propagation_delay_direct) / (1/bandwidth_direct_bps - 1/bandwidth_via_R1_bps)\n",
    "L_threshold_R4_R1 = (propagation_delay_via_R4_R1 - propagation_delay_direct) / (1/bandwidth_direct_bps- 1/bandwidth_via_R4_R1_bps)\n",
    "print(L_threshold_R1,L_threshold_R4_R1)"
   ]
  },
  {
   "cell_type": "markdown",
   "metadata": {},
   "source": [
    "R3-R1 (Routes)"
   ]
  },
  {
   "cell_type": "code",
   "execution_count": 32,
   "metadata": {},
   "outputs": [
    {
     "name": "stdout",
     "output_type": "stream",
     "text": [
      "13333.333333333332 -10000.000000000002\n"
     ]
    }
   ],
   "source": [
    "propagation_delay_direct = 100 * 10**-6  # seconds\n",
    "propagation_delay_via_R2 = 220 * 10**-6  # seconds\n",
    "bandwidth_via_R2_bps = 1_000_000* 1_000  # bits per second\n",
    "bandwidth_direct_bps = 100_000 * 1_000  # bits per second\n",
    "bandwidth_via_R2_R4_bps = 100_000* 1_000  # bits per second\n",
    "propagation_delay_via_R2_R4 = 310 * 10**-6  # seconds\n",
    "# Equate total delays and solve for L\n",
    "# D_total_via_R2 = propagation_delay_via_R2 + L / bandwidth_via_R2_bps\n",
    "# D_total_direct = propagation_delay_direct + L / bandwidth_direct_bps\n",
    "# Set them equal and solve for L\n",
    "L_threshold_Direct = (propagation_delay_via_R2 - propagation_delay_direct) / (1/bandwidth_direct_bps - 1/bandwidth_via_R2_bps)\n",
    "L_threshold_R2_R4 = (propagation_delay_via_R2_R4 - propagation_delay_via_R2) / (1/bandwidth_via_R2_bps- 1/bandwidth_via_R2_R4_bps)\n",
    "print(L_threshold_Direct,L_threshold_R2_R4)"
   ]
  },
  {
   "cell_type": "markdown",
   "metadata": {},
   "source": [
    "R3-R2 (Routes)"
   ]
  },
  {
   "cell_type": "code",
   "execution_count": 35,
   "metadata": {},
   "outputs": [
    {
     "name": "stdout",
     "output_type": "stream",
     "text": [
      "-11111.111111111111 -22222.222222222226\n"
     ]
    }
   ],
   "source": [
    "propagation_delay_direct = 110 * 10**-6  # seconds\n",
    "propagation_delay_via_R1 = 210 * 10**-6  # seconds\n",
    "bandwidth_via_R1_bps = 100_000* 1_000  # bits per second\n",
    "bandwidth_direct_bps = 1_000_000 * 1_000  # bits per second\n",
    "bandwidth_via_R1_R4_bps = 100_000* 1_000  # bits per second\n",
    "propagation_delay_via_R1_R4 = 310 * 10**-6  # seconds\n",
    "# Equate total delays and solve for L\n",
    "# D_total_via_R2 = propagation_delay_via_R2 + L / bandwidth_via_R2_bps\n",
    "# D_total_direct = propagation_delay_direct + L / bandwidth_direct_bps\n",
    "# Set them equal and solve for L\n",
    "L_threshold_R1 = (propagation_delay_via_R1 - propagation_delay_direct) / (1/bandwidth_direct_bps - 1/bandwidth_via_R1_bps)\n",
    "L_threshold_R1_R4 = (propagation_delay_via_R1_R4 - propagation_delay_direct) / (1/bandwidth_direct_bps- 1/bandwidth_via_R1_R4_bps)\n",
    "print(L_threshold_R1,L_threshold_R1_R4)"
   ]
  },
  {
   "cell_type": "markdown",
   "metadata": {},
   "source": [
    "R3-R4 (Routes)"
   ]
  },
  {
   "cell_type": "code",
   "execution_count": 34,
   "metadata": {},
   "outputs": [
    {
     "name": "stdout",
     "output_type": "stream",
     "text": [
      "2222.222222222222 -11111.111111111111 -11111.111111111111\n"
     ]
    }
   ],
   "source": [
    "propagation_delay_via_R2 = 220 * 10**-6  # seconds\n",
    "propagation_delay_via_R1 = 200 * 10**-6  # seconds\n",
    "propagation_delay_via_R2_R1 = 320 * 10**-6  # seconds\n",
    "propagation_delay_via_R1_R2 = 320 * 10**-6  # seconds\n",
    "bandwidth_via_R2_bps = 1_000_000* 1_000  # bits per second\n",
    "bandwidth_via_R1_bps = 100_000 * 1_000  # bits per second\n",
    "bandwidth_via_R2_R1_bps = 100_000* 1_000  # bits per second\n",
    "bandwidth_via_R1_R2_bps = 100_000* 1_000  # bits per second\n",
    "\n",
    "# Equate total delays and solve for L\n",
    "# D_total_via_R2 = propagation_delay_via_R2 + L / bandwidth_via_R2_bps\n",
    "# D_total_direct = propagation_delay_direct + L / bandwidth_direct_bps\n",
    "# Set them equal and solve for L\n",
    "L_threshold_R1 = (propagation_delay_via_R1 - propagation_delay_via_R2) / (1/bandwidth_via_R2_bps - 1/bandwidth_via_R1_bps)\n",
    "L_threshold_R2_R1 = (propagation_delay_via_R2_R1 - propagation_delay_via_R2) / (1/bandwidth_via_R2_bps- 1/bandwidth_via_R2_R1_bps)\n",
    "L_threshold_R1_R2 = (propagation_delay_via_R1_R2 - propagation_delay_via_R2) / (1/bandwidth_via_R2_bps- 1/bandwidth_via_R1_R2_bps)\n",
    "print(L_threshold_R1,L_threshold_R2_R1,L_threshold_R1_R2)"
   ]
  },
  {
   "cell_type": "markdown",
   "metadata": {},
   "source": [
    "R4-R2 (Routes)\n"
   ]
  },
  {
   "cell_type": "code",
   "execution_count": 36,
   "metadata": {},
   "outputs": [
    {
     "name": "stdout",
     "output_type": "stream",
     "text": [
      "-11111.111111111111 -22222.222222222226\n"
     ]
    }
   ],
   "source": [
    "propagation_delay_direct = 110 * 10**-6  # seconds\n",
    "propagation_delay_via_R1 = 210 * 10**-6  # seconds\n",
    "bandwidth_via_R1_bps = 100_000* 1_000  # bits per second\n",
    "bandwidth_direct_bps = 1_000_000 * 1_000  # bits per second\n",
    "bandwidth_via_R1_R3_bps = 100_000* 1_000  # bits per second\n",
    "propagation_delay_via_R1_R3 = 310 * 10**-6  # seconds\n",
    "# Equate total delays and solve for L\n",
    "# D_total_via_R2 = propagation_delay_via_R2 + L / bandwidth_via_R2_bps\n",
    "# D_total_direct = propagation_delay_direct + L / bandwidth_direct_bps\n",
    "# Set them equal and solve for L\n",
    "L_threshold_R1 = (propagation_delay_via_R1 - propagation_delay_direct) / (1/bandwidth_direct_bps - 1/bandwidth_via_R1_bps)\n",
    "L_threshold_R1_R3 = (propagation_delay_via_R1_R3 - propagation_delay_direct) / (1/bandwidth_direct_bps- 1/bandwidth_via_R1_R3_bps)\n",
    "print(L_threshold_R1,L_threshold_R1_R3)"
   ]
  },
  {
   "cell_type": "markdown",
   "metadata": {},
   "source": [
    "R4-R1 (Routes)"
   ]
  },
  {
   "cell_type": "code",
   "execution_count": 37,
   "metadata": {},
   "outputs": [
    {
     "name": "stdout",
     "output_type": "stream",
     "text": [
      "13333.333333333332 -10000.000000000002\n"
     ]
    }
   ],
   "source": [
    "propagation_delay_direct = 100 * 10**-6  # seconds\n",
    "propagation_delay_via_R2 = 220 * 10**-6  # seconds\n",
    "bandwidth_via_R2_bps = 1_000_000* 1_000  # bits per second\n",
    "bandwidth_direct_bps = 100_000 * 1_000  # bits per second\n",
    "bandwidth_via_R2_R3_bps = 100_000* 1_000  # bits per second\n",
    "propagation_delay_via_R2_R3 = 310 * 10**-6  # seconds\n",
    "# Equate total delays and solve for L\n",
    "# D_total_via_R2 = propagation_delay_via_R2 + L / bandwidth_via_R2_bps\n",
    "# D_total_direct = propagation_delay_direct + L / bandwidth_direct_bps\n",
    "# Set them equal and solve for L\n",
    "L_threshold_Direct = (propagation_delay_via_R2 - propagation_delay_direct) / (1/bandwidth_direct_bps - 1/bandwidth_via_R2_bps)\n",
    "L_threshold_R2_R3 = (propagation_delay_via_R2_R3 - propagation_delay_via_R2) / (1/bandwidth_via_R2_bps- 1/bandwidth_via_R2_R3_bps)\n",
    "print(L_threshold_Direct,L_threshold_R2_R3)"
   ]
  },
  {
   "cell_type": "markdown",
   "metadata": {},
   "source": [
    "R4-R3 (Routes)"
   ]
  },
  {
   "cell_type": "code",
   "execution_count": 38,
   "metadata": {},
   "outputs": [
    {
     "name": "stdout",
     "output_type": "stream",
     "text": [
      "2222.222222222222 -11111.111111111111 -11111.111111111111\n"
     ]
    }
   ],
   "source": [
    "propagation_delay_via_R2 = 220 * 10**-6  # seconds\n",
    "propagation_delay_via_R1 = 200 * 10**-6  # seconds\n",
    "propagation_delay_via_R2_R1 = 320 * 10**-6  # seconds\n",
    "propagation_delay_via_R1_R2 = 320 * 10**-6  # seconds\n",
    "bandwidth_via_R2_bps = 1_000_000* 1_000  # bits per second\n",
    "bandwidth_via_R1_bps = 100_000 * 1_000  # bits per second\n",
    "bandwidth_via_R2_R1_bps = 100_000* 1_000  # bits per second\n",
    "bandwidth_via_R1_R2_bps = 100_000* 1_000  # bits per second\n",
    "\n",
    "# Equate total delays and solve for L\n",
    "# D_total_via_R2 = propagation_delay_via_R2 + L / bandwidth_via_R2_bps\n",
    "# D_total_direct = propagation_delay_direct + L / bandwidth_direct_bps\n",
    "# Set them equal and solve for L\n",
    "L_threshold_R1 = (propagation_delay_via_R1 - propagation_delay_via_R2) / (1/bandwidth_via_R2_bps - 1/bandwidth_via_R1_bps)\n",
    "L_threshold_R2_R1 = (propagation_delay_via_R2_R1 - propagation_delay_via_R2) / (1/bandwidth_via_R2_bps- 1/bandwidth_via_R2_R1_bps)\n",
    "L_threshold_R1_R2 = (propagation_delay_via_R1_R2 - propagation_delay_via_R2) / (1/bandwidth_via_R2_bps- 1/bandwidth_via_R1_R2_bps)\n",
    "print(L_threshold_R1,L_threshold_R2_R1,L_threshold_R1_R2)"
   ]
  }
 ],
 "metadata": {
  "kernelspec": {
   "display_name": "base",
   "language": "python",
   "name": "python3"
  },
  "language_info": {
   "codemirror_mode": {
    "name": "ipython",
    "version": 3
   },
   "file_extension": ".py",
   "mimetype": "text/x-python",
   "name": "python",
   "nbconvert_exporter": "python",
   "pygments_lexer": "ipython3",
   "version": "3.9.12"
  }
 },
 "nbformat": 4,
 "nbformat_minor": 2
}
